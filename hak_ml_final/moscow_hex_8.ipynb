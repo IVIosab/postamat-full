{
 "cells": [
  {
   "cell_type": "markdown",
   "metadata": {},
   "source": [
    "# IMPORTS AND CONSTANTS\n"
   ]
  },
  {
   "cell_type": "code",
   "execution_count": 2,
   "metadata": {},
   "outputs": [],
   "source": [
    "import geopandas as gpd\n",
    "import pandas as pd\n",
    "import numpy as np\n",
    "import json\n",
    "import h3\n",
    "import folium\n",
    "import osmnx as ox\n",
    "from shapely import wkt\n",
    "from folium.plugins import HeatMap\n",
    "from shapely.geometry import Polygon\n",
    "from shapely.geometry import Point\n",
    "import os"
   ]
  },
  {
   "cell_type": "code",
   "execution_count": 3,
   "metadata": {},
   "outputs": [],
   "source": [
    "RESOLUTION = 8\n",
    "MOSCOW = \"Moscow\""
   ]
  },
  {
   "cell_type": "markdown",
   "metadata": {},
   "source": [
    "# getting the small areas"
   ]
  },
  {
   "cell_type": "code",
   "execution_count": 4,
   "metadata": {},
   "outputs": [],
   "source": [
    "def visualize_polygons(geometry):\n",
    "\n",
    "    lats, lons = get_lat_lon(geometry)\n",
    "\n",
    "    m = folium.Map(location=[sum(lats)/len(lats), sum(lons)/len(lons)], zoom_start=13, tiles='cartodbpositron')\n",
    "\n",
    "    overlay = gpd.GeoSeries(geometry).to_json()\n",
    "    folium.GeoJson(overlay, name = 'boundary').add_to(m)\n",
    "\n",
    "    return m\n",
    "\n",
    "# учитывая геометрию, верните широту и долготу\n",
    "\n",
    "def get_lat_lon(geometry):\n",
    "\n",
    "    lon = geometry.apply(lambda x: x.x if x.type == 'Point' else x.centroid.x)\n",
    "    lat = geometry.apply(lambda x: x.y if x.type == 'Point' else x.centroid.y)\n",
    "    return lat, lon\n",
    "\n",
    "# данные о городе МОСКВЕ могут быть извлечены из объектов с тегом : {'граница':'административный'}\n",
    "\n",
    "cities = [\"Moscow\"]\n",
    "ms_org = ox.geometries_from_place(cities, {'boundary':'administrative'}).reset_index()\n",
    "ms_org = ms_org.dropna(subset=['name'])"
   ]
  },
  {
   "cell_type": "code",
   "execution_count": 5,
   "metadata": {},
   "outputs": [
    {
     "name": "stdout",
     "output_type": "stream",
     "text": [
      "1935            Северный административный округ\n",
      "1943            Западный административный округ\n",
      "1986     Северо-Западный административный округ\n",
      "2029    Северо-Восточный административный округ\n",
      "2050       Юго-Восточный административный округ\n",
      "2056               Южный административный округ\n",
      "2067        Юго-Западный административный округ\n",
      "2073           Восточный административный округ\n",
      "2079         Центральный административный округ\n",
      "2080      Новомосковский административный округ\n",
      "Name: name, dtype: object\n"
     ]
    }
   ],
   "source": [
    "def create_hexagons(geoJson):\n",
    "    hexagons = list(h3.polyfill(geoJson, RESOLUTION))\n",
    "    return hexagons\n",
    "\n",
    "# divide Moscow into hexagons by first finding the administrative districts and then split the latter into hexagons\n",
    "\n",
    "districts = ['Северный административный округ', \"Западный административный округ\", \"Северо-Западный административный округ\"\n",
    "             , \"Северо-Восточный административный округ\", \"Юго-Восточный административный округ\", \n",
    "             \"Южный административный округ\", \"Юго-Западный административный округ\", \"Восточный административный округ\", \n",
    "             \"Центральный административный округ\", \"Новомосковский административный округ\"]\n",
    "ms_r = ms_org[ms_org['name'].isin(districts)]\n",
    "\n",
    "names = ms_r['name']\n",
    "i = 0\n",
    "print(names)\n"
   ]
  },
  {
   "cell_type": "code",
   "execution_count": 6,
   "metadata": {},
   "outputs": [
    {
     "name": "stdout",
     "output_type": "stream",
     "text": [
      "(2086, 2)\n",
      "10\n"
     ]
    }
   ],
   "source": [
    "# obtain a geoJson object from a GEOMETRY object that can be used to model\n",
    "# the geometry\n",
    "\n",
    "def get_geoJson(geo):\n",
    "    geoJson = json.loads(gpd.GeoSeries(geo).to_json())\n",
    "    geoJson = geoJson['features'][0]['geometry']\n",
    "    geoJson = {'type':'Polygon','coordinates': [np.column_stack((np.array(geoJson['coordinates'][0])[:, 1],\n",
    "                                                        np.array(geoJson['coordinates'][0])[:, 0])).tolist()]}\n",
    "    return geoJson\n",
    "\n",
    "reg_cols = ['h3', 'lat', 'lng']\n",
    "\n",
    "regions = pd.DataFrame(data=[], columns=reg_cols)\n",
    "\n",
    "for n in names:\n",
    "    geo = ms_r[ms_r['name'] == n]['geometry']\n",
    "    geoJson= get_geoJson(geo)\n",
    "\n",
    "    try:\n",
    "        cells = create_hexagons(geoJson)\n",
    "        reg_data = [[cell, h3.h3_to_geo(cell)[0], h3.h3_to_geo(cell)[1]] for cell in cells]\n",
    "        reg = pd.DataFrame(data=reg_data, columns=reg_cols)\n",
    "        regions = pd.concat([regions, reg], ignore_index=True)\n",
    "        i += 1\n",
    "    except:\n",
    "        try:\n",
    "            for po in geo:\n",
    "                for p in po.geoms:\n",
    "                    geoJson = get_geoJson(p)\n",
    "                    cells = create_hexagons(geoJson)\n",
    "                    reg_data = [[cell, h3.h3_to_geo(cell)[0], h3.h3_to_geo(cell)[1]] for cell in cells]\n",
    "                    reg = pd.DataFrame(data=reg_data, columns=reg_cols)\n",
    "                    regions = pd.concat([regions, reg], ignore_index=True)  \n",
    "            i += 1                  \n",
    "        except:\n",
    "            print(n)\n",
    "            pass\n",
    "        \n",
    "regions = regions.set_index('h3').sort_index()\n",
    "print(regions.shape)\n",
    "print(i)"
   ]
  },
  {
   "cell_type": "code",
   "execution_count": 7,
   "metadata": {},
   "outputs": [
    {
     "name": "stdout",
     "output_type": "stream",
     "text": [
      "(2050, 2)\n"
     ]
    }
   ],
   "source": [
    "regions = regions.drop_duplicates(keep=False)\n",
    "print(regions.shape)"
   ]
  },
  {
   "cell_type": "code",
   "execution_count": 10,
   "metadata": {},
   "outputs": [],
   "source": [
    "regions.to_excel(\"moscow_hex_8_jupyter.xlsx\")"
   ]
  },
  {
   "cell_type": "code",
   "execution_count": null,
   "metadata": {},
   "outputs": [],
   "source": [
    "print(regions.head())\n",
    "print(regions.reset_index())"
   ]
  },
  {
   "cell_type": "markdown",
   "metadata": {},
   "source": [
    "# Добавление более сложных функций"
   ]
  },
  {
   "cell_type": "markdown",
   "metadata": {},
   "source": [
    "Давайте оценим пешеходный трафик (сколько человек приезжает из этого конкретного региона / зоны и направляется в нее), оценив общее количество раз, когда определенный автобусный маршрут проходит через эту зону"
   ]
  },
  {
   "cell_type": "code",
   "execution_count": null,
   "metadata": {},
   "outputs": [],
   "source": [
    "# давайте рассмотрим реальные автобусные маршруты.\n",
    "\n",
    "routes_loc = os.path.join('use_data/transport/bus_routes.xlsx') # https://op.mos.ru/EHDWSREST/catalog/export/get?id=1482330\n",
    "routes = pd.read_excel(routes_loc)\n",
    "try:\n",
    "    routes.drop(0, inplace=True, axis=0)\n",
    "except KeyError:\n",
    "    print(routes.loc[:3, :])\n",
    "    pass\n",
    "\n",
    "routes = routes.loc[:, ['RouteNumber', 'DirectRouteTrack']]\n",
    "routes = routes.rename(columns={\"DirectRouteTrack\": \"route\", \"RouteNumber\": \"route_id\"})"
   ]
  },
  {
   "cell_type": "code",
   "execution_count": null,
   "metadata": {},
   "outputs": [
    {
     "name": "stdout",
     "output_type": "stream",
     "text": [
      "                                                      route\n",
      "route_id                                                   \n",
      "10        37.750304,55.658905;37.750247,55.658891;37.750...\n",
      "10        37.968439,55.796229;37.968325,55.796316;37.968...\n",
      "1001      36.863829,55.428193;36.864000,55.428103;36.864...\n",
      "1002      36.863829,55.428193;36.864000,55.428103;36.864...\n",
      "1008к     37.959253,55.121159;37.959583,55.121215;37.959...\n"
     ]
    }
   ],
   "source": [
    "import re\n",
    "def clean_route(row):\n",
    "    # удалите любой символ, который не является цифрой, пробелом, точкой или точкой с запятой\n",
    "    row['route'] = re.sub(r'[^0-9,;.]+', \"\", row['route'])\n",
    "    return row\n",
    "\n",
    "routes = routes.apply(clean_route, axis=1)\n",
    "\n",
    "# удаление недопустимых маршрутов\n",
    "\n",
    "for id, row in routes.iterrows():\n",
    "    if re.match((\".*[0-9]+.*\"), row['route']) is None:\n",
    "        routes.drop(id, axis=0, inplace=True)\n",
    "\n",
    "routes = routes.set_index('route_id').sort_index()\n",
    "print(routes.head())"
   ]
  },
  {
   "cell_type": "code",
   "execution_count": null,
   "metadata": {},
   "outputs": [],
   "source": [
    "# сохраните окончательные маршруты в файле excel\n",
    "routes_final_loc = os.path.join(\"use_data/transport/final_routes.xlsx\")\n",
    "routes.to_excel(routes_final_loc)"
   ]
  },
  {
   "cell_type": "markdown",
   "metadata": {},
   "source": [
    "## adding the bus stations"
   ]
  },
  {
   "cell_type": "code",
   "execution_count": 17,
   "metadata": {},
   "outputs": [
    {
     "name": "stderr",
     "output_type": "stream",
     "text": [
      "/home/ayhem18/Ayhem18/DEV/Data_science/Towards_Data_Science/ds_env/lib/python3.10/site-packages/openpyxl/styles/stylesheet.py:226: UserWarning: Workbook contains no default style, apply openpyxl's default\n",
      "  warn(\"Workbook contains no default style, apply openpyxl's default\")\n"
     ]
    },
    {
     "data": {
      "text/html": [
       "<div>\n",
       "<style scoped>\n",
       "    .dataframe tbody tr th:only-of-type {\n",
       "        vertical-align: middle;\n",
       "    }\n",
       "\n",
       "    .dataframe tbody tr th {\n",
       "        vertical-align: top;\n",
       "    }\n",
       "\n",
       "    .dataframe thead th {\n",
       "        text-align: right;\n",
       "    }\n",
       "</style>\n",
       "<table border=\"1\" class=\"dataframe\">\n",
       "  <thead>\n",
       "    <tr style=\"text-align: right;\">\n",
       "      <th></th>\n",
       "      <th>object_category_Id</th>\n",
       "      <th>global_id</th>\n",
       "      <th>route_id</th>\n",
       "      <th>service_id</th>\n",
       "      <th>trip_id</th>\n",
       "      <th>trip_headsign</th>\n",
       "      <th>direction_id</th>\n",
       "      <th>block_id</th>\n",
       "      <th>volume_id</th>\n",
       "      <th>trip_type</th>\n",
       "      <th>object_category_Id_en</th>\n",
       "      <th>route_id_en</th>\n",
       "      <th>service_id_en</th>\n",
       "      <th>trip_id_en</th>\n",
       "      <th>trip_headsign_en</th>\n",
       "      <th>direction_id_en</th>\n",
       "      <th>block_id_en</th>\n",
       "      <th>volume_id_en</th>\n",
       "      <th>trip_type_en</th>\n",
       "    </tr>\n",
       "  </thead>\n",
       "  <tbody>\n",
       "    <tr>\n",
       "      <th>1</th>\n",
       "      <td>NaN</td>\n",
       "      <td>1139512454</td>\n",
       "      <td>728</td>\n",
       "      <td>3112739</td>\n",
       "      <td>728_3112739_4_701</td>\n",
       "      <td>NaN</td>\n",
       "      <td>1</td>\n",
       "      <td>NaN</td>\n",
       "      <td>NaN</td>\n",
       "      <td>NaN</td>\n",
       "      <td>NaN</td>\n",
       "      <td>NaN</td>\n",
       "      <td>NaN</td>\n",
       "      <td>NaN</td>\n",
       "      <td>NaN</td>\n",
       "      <td>NaN</td>\n",
       "      <td>NaN</td>\n",
       "      <td>NaN</td>\n",
       "      <td>NaN</td>\n",
       "    </tr>\n",
       "    <tr>\n",
       "      <th>2</th>\n",
       "      <td>NaN</td>\n",
       "      <td>1139513095</td>\n",
       "      <td>728</td>\n",
       "      <td>3112739</td>\n",
       "      <td>728_3112739_7_701</td>\n",
       "      <td>NaN</td>\n",
       "      <td>0</td>\n",
       "      <td>NaN</td>\n",
       "      <td>NaN</td>\n",
       "      <td>NaN</td>\n",
       "      <td>NaN</td>\n",
       "      <td>NaN</td>\n",
       "      <td>NaN</td>\n",
       "      <td>NaN</td>\n",
       "      <td>NaN</td>\n",
       "      <td>NaN</td>\n",
       "      <td>NaN</td>\n",
       "      <td>NaN</td>\n",
       "      <td>NaN</td>\n",
       "    </tr>\n",
       "    <tr>\n",
       "      <th>3</th>\n",
       "      <td>NaN</td>\n",
       "      <td>1139513096</td>\n",
       "      <td>728</td>\n",
       "      <td>3112739</td>\n",
       "      <td>728_3112739_11_702</td>\n",
       "      <td>NaN</td>\n",
       "      <td>0</td>\n",
       "      <td>NaN</td>\n",
       "      <td>NaN</td>\n",
       "      <td>NaN</td>\n",
       "      <td>NaN</td>\n",
       "      <td>NaN</td>\n",
       "      <td>NaN</td>\n",
       "      <td>NaN</td>\n",
       "      <td>NaN</td>\n",
       "      <td>NaN</td>\n",
       "      <td>NaN</td>\n",
       "      <td>NaN</td>\n",
       "      <td>NaN</td>\n",
       "    </tr>\n",
       "    <tr>\n",
       "      <th>4</th>\n",
       "      <td>NaN</td>\n",
       "      <td>1139513097</td>\n",
       "      <td>728</td>\n",
       "      <td>3112739</td>\n",
       "      <td>728_3112739_3_701</td>\n",
       "      <td>NaN</td>\n",
       "      <td>0</td>\n",
       "      <td>NaN</td>\n",
       "      <td>NaN</td>\n",
       "      <td>NaN</td>\n",
       "      <td>NaN</td>\n",
       "      <td>NaN</td>\n",
       "      <td>NaN</td>\n",
       "      <td>NaN</td>\n",
       "      <td>NaN</td>\n",
       "      <td>NaN</td>\n",
       "      <td>NaN</td>\n",
       "      <td>NaN</td>\n",
       "      <td>NaN</td>\n",
       "    </tr>\n",
       "    <tr>\n",
       "      <th>5</th>\n",
       "      <td>NaN</td>\n",
       "      <td>1139513099</td>\n",
       "      <td>728</td>\n",
       "      <td>3112739</td>\n",
       "      <td>728_3112739_5_701</td>\n",
       "      <td>NaN</td>\n",
       "      <td>0</td>\n",
       "      <td>NaN</td>\n",
       "      <td>NaN</td>\n",
       "      <td>NaN</td>\n",
       "      <td>NaN</td>\n",
       "      <td>NaN</td>\n",
       "      <td>NaN</td>\n",
       "      <td>NaN</td>\n",
       "      <td>NaN</td>\n",
       "      <td>NaN</td>\n",
       "      <td>NaN</td>\n",
       "      <td>NaN</td>\n",
       "      <td>NaN</td>\n",
       "    </tr>\n",
       "  </tbody>\n",
       "</table>\n",
       "</div>"
      ],
      "text/plain": [
       "  object_category_Id   global_id route_id service_id             trip_id  \\\n",
       "1                NaN  1139512454      728    3112739   728_3112739_4_701   \n",
       "2                NaN  1139513095      728    3112739   728_3112739_7_701   \n",
       "3                NaN  1139513096      728    3112739  728_3112739_11_702   \n",
       "4                NaN  1139513097      728    3112739   728_3112739_3_701   \n",
       "5                NaN  1139513099      728    3112739   728_3112739_5_701   \n",
       "\n",
       "  trip_headsign direction_id block_id volume_id trip_type  \\\n",
       "1           NaN            1      NaN       NaN       NaN   \n",
       "2           NaN            0      NaN       NaN       NaN   \n",
       "3           NaN            0      NaN       NaN       NaN   \n",
       "4           NaN            0      NaN       NaN       NaN   \n",
       "5           NaN            0      NaN       NaN       NaN   \n",
       "\n",
       "  object_category_Id_en route_id_en service_id_en trip_id_en trip_headsign_en  \\\n",
       "1                   NaN         NaN           NaN        NaN              NaN   \n",
       "2                   NaN         NaN           NaN        NaN              NaN   \n",
       "3                   NaN         NaN           NaN        NaN              NaN   \n",
       "4                   NaN         NaN           NaN        NaN              NaN   \n",
       "5                   NaN         NaN           NaN        NaN              NaN   \n",
       "\n",
       "  direction_id_en block_id_en volume_id_en trip_type_en  \n",
       "1             NaN         NaN          NaN          NaN  \n",
       "2             NaN         NaN          NaN          NaN  \n",
       "3             NaN         NaN          NaN          NaN  \n",
       "4             NaN         NaN          NaN          NaN  \n",
       "5             NaN         NaN          NaN          NaN  "
      ]
     },
     "execution_count": 17,
     "metadata": {},
     "output_type": "execute_result"
    }
   ],
   "source": [
    "rf_loc = os.path.join(\"use_data\", \"transport\", \"routes_frequency.xlsx\")\n",
    "rf = pd.read_excel(rf_loc)\n",
    "\n",
    "try:\n",
    "    rf.drop(0, axis=0, inplace=True)\n",
    "except :\n",
    "    pass\n",
    "rf.head()"
   ]
  },
  {
   "cell_type": "code",
   "execution_count": 18,
   "metadata": {},
   "outputs": [
    {
     "name": "stdout",
     "output_type": "stream",
     "text": [
      "          count\n",
      "route_id       \n",
      "1002        641\n",
      "1024        478\n",
      "1027         53\n",
      "1028        118\n",
      "103         266\n",
      "...         ...\n",
      "988         127\n",
      "990         349\n",
      "993          66\n",
      "995         134\n",
      "999         634\n",
      "\n",
      "[922 rows x 1 columns]\n"
     ]
    }
   ],
   "source": [
    "rf = rf.loc[:, ['route_id', 'trip_id']]\n",
    "rf.to_excel(os.path.join(\"use_data\", \"transport\", \"routes_frequency_final.xlsx\")) # https://op.mos.ru/EHDWSREST/catalog/export/get?id=1476281\n",
    "\n",
    "# группа по идентификатору маршрута: каждый маршрут будет связан со своей частотой\n",
    "\n",
    "routes_count = pd.pivot_table(rf, index='route_id', values='trip_id', aggfunc=['count']).sort_index()\n",
    "# лучшее название\n",
    "routes_count.columns= ['count']\n",
    "print(routes_count)"
   ]
  },
  {
   "cell_type": "code",
   "execution_count": 21,
   "metadata": {},
   "outputs": [
    {
     "name": "stdout",
     "output_type": "stream",
     "text": [
      "(114, 2)\n",
      "                                                      route  count\n",
      "route_id                                                          \n",
      "1002      36.863829,55.428193;36.864000,55.428103;36.864...    641\n",
      "1024      37.563287,55.430887;37.562931,55.430958;37.562...    478\n",
      "1028      37.562419,55.431071;37.562304,55.430659;37.562...    118\n",
      "1030      37.561832,55.431727;37.562165,55.431825;37.562...      6\n",
      "1063      37.835508,55.630339;37.835783,55.630098;37.835...    169\n"
     ]
    }
   ],
   "source": [
    "df_traffic = pd.merge(routes, routes_count, how='inner', right_index=True, left_index=True)\n",
    "print(df_traffic.shape)\n",
    "print(df_traffic.head())"
   ]
  },
  {
   "cell_type": "code",
   "execution_count": 22,
   "metadata": {},
   "outputs": [],
   "source": [
    "df_traffic_final = df_traffic.loc[:, ['count']]\n",
    "df_traffic_final.to_excel(\"use_data/transport/bus_traffic.xlsx\")"
   ]
  },
  {
   "cell_type": "code",
   "execution_count": 23,
   "metadata": {},
   "outputs": [
    {
     "name": "stdout",
     "output_type": "stream",
     "text": [
      "52197 23474\n"
     ]
    }
   ],
   "source": [
    "def add_one_route(df, route_str: str, count):\n",
    "    # извлекать станции в каждой поездке\n",
    "    stations = re.split(\";\", route_str)\n",
    "    i = 0\n",
    "    j = 0\n",
    "    # извлеките координаты каждой станции\n",
    "    for s in stations:\n",
    "        lng, lat   = re.split(\",\", s)\n",
    "        lat, lng = float(lat), float(lng)\n",
    "        # получить адрес h3 каждой станции (с разрешением 8)\n",
    "        h3_addr = h3.geo_to_h3(lat=lat, lng=lng, resolution=RESOLUTION)\n",
    "    \n",
    "        try:\n",
    "            \n",
    "            df.loc[h3_addr, 'route'] += count\n",
    "            j += 1\n",
    "        except KeyError:\n",
    "            \n",
    "            i += 1\n",
    "            pass\n",
    "    return i, j\n",
    "    \n",
    "def add_traffic(df, df_tra):\n",
    "    df['route'] = 0\n",
    "    i = 0\n",
    "    j = 0\n",
    "    for r , c in zip(df_tra['route'], df_tra['count']):\n",
    "        i_1, j_1 = add_one_route(df, r, c)  \n",
    "        i += i_1\n",
    "        j += j_1  \n",
    "    print(i, j)\n",
    "add_traffic(regions, df_traffic)"
   ]
  },
  {
   "cell_type": "code",
   "execution_count": 24,
   "metadata": {},
   "outputs": [
    {
     "data": {
      "text/plain": [
       "0        1700\n",
       "4905        5\n",
       "6867        3\n",
       "981         3\n",
       "17088       2\n",
       "         ... \n",
       "7249        1\n",
       "2447        1\n",
       "31148       1\n",
       "6144        1\n",
       "6764        1\n",
       "Name: route, Length: 328, dtype: int64"
      ]
     },
     "execution_count": 24,
     "metadata": {},
     "output_type": "execute_result"
    }
   ],
   "source": [
    "regions['route'].value_counts()"
   ]
  },
  {
   "cell_type": "code",
   "execution_count": 25,
   "metadata": {},
   "outputs": [],
   "source": [
    "# сохраните зоны и количество автобусов, которые проезжают мимо них за заранее определенный промежуток времени\n",
    "regions = regions.rename(columns={\"route\": \"bus_freq_count\"}).sort_index()\n",
    "regions.to_excel(f\"data_{str(RESOLUTION)}/regions_bus_traff.xlsx\")"
   ]
  }
 ],
 "metadata": {
  "kernelspec": {
   "display_name": "Python 3.10.6 ('postamat_env': venv)",
   "language": "python",
   "name": "python3"
  },
  "language_info": {
   "codemirror_mode": {
    "name": "ipython",
    "version": 3
   },
   "file_extension": ".py",
   "mimetype": "text/x-python",
   "name": "python",
   "nbconvert_exporter": "python",
   "pygments_lexer": "ipython3",
   "version": "3.10.6"
  },
  "orig_nbformat": 4,
  "vscode": {
   "interpreter": {
    "hash": "eb29406317afd3166bbc86bb5d4c8ea34848857cd2ae365a5e802d20991b428b"
   }
  }
 },
 "nbformat": 4,
 "nbformat_minor": 2
}
