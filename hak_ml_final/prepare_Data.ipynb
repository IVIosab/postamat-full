{
 "cells": [
  {
   "cell_type": "code",
   "execution_count": 6,
   "metadata": {},
   "outputs": [],
   "source": [
    "import original_hexagones as oh\n",
    "import pandas as pd\n",
    "\n",
    "moscow_wanted_districts = ['Северный административный округ', \"Западный административный округ\", \"Северо-Западный административный округ\"\n",
    "             , \"Северо-Восточный административный округ\", \"Юго-Восточный административный округ\", \n",
    "             \"Южный административный округ\", \"Юго-Западный административный округ\", \"Восточный административный округ\", \n",
    "             \"Центральный административный округ\", \"Новомосковский административный округ\"]\n"
   ]
  },
  {
   "cell_type": "code",
   "execution_count": null,
   "metadata": {},
   "outputs": [],
   "source": [
    "moscow_hexagones_8 = oh.get_hexagones('Moscow', moscow_wanted_districts, 8)"
   ]
  }
 ],
 "metadata": {
  "kernelspec": {
   "display_name": "Python 3.10.6 ('postamat_env': venv)",
   "language": "python",
   "name": "python3"
  },
  "language_info": {
   "codemirror_mode": {
    "name": "ipython",
    "version": 3
   },
   "file_extension": ".py",
   "mimetype": "text/x-python",
   "name": "python",
   "nbconvert_exporter": "python",
   "pygments_lexer": "ipython3",
   "version": "3.10.6"
  },
  "orig_nbformat": 4,
  "vscode": {
   "interpreter": {
    "hash": "eb29406317afd3166bbc86bb5d4c8ea34848857cd2ae365a5e802d20991b428b"
   }
  }
 },
 "nbformat": 4,
 "nbformat_minor": 2
}
