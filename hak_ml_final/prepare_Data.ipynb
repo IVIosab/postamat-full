{
 "cells": [
  {
   "cell_type": "code",
   "execution_count": 1,
   "metadata": {},
   "outputs": [
    {
     "ename": "ModuleNotFoundError",
     "evalue": "No module named 'geopandas'",
     "output_type": "error",
     "traceback": [
      "\u001b[0;31m---------------------------------------------------------------------------\u001b[0m",
      "\u001b[0;31mModuleNotFoundError\u001b[0m                       Traceback (most recent call last)",
      "Cell \u001b[0;32mIn [1], line 1\u001b[0m\n\u001b[0;32m----> 1\u001b[0m \u001b[39mimport\u001b[39;00m \u001b[39moriginal_hexagones\u001b[39;00m \u001b[39mas\u001b[39;00m \u001b[39moh\u001b[39;00m\n\u001b[1;32m      3\u001b[0m moscow_wanted_districts \u001b[39m=\u001b[39m [\u001b[39m'\u001b[39m\u001b[39mСеверный административный округ\u001b[39m\u001b[39m'\u001b[39m, \u001b[39m\"\u001b[39m\u001b[39mЗападный административный округ\u001b[39m\u001b[39m\"\u001b[39m, \u001b[39m\"\u001b[39m\u001b[39mСеверо-Западный административный округ\u001b[39m\u001b[39m\"\u001b[39m\n\u001b[1;32m      4\u001b[0m              , \u001b[39m\"\u001b[39m\u001b[39mСеверо-Восточный административный округ\u001b[39m\u001b[39m\"\u001b[39m, \u001b[39m\"\u001b[39m\u001b[39mЮго-Восточный административный округ\u001b[39m\u001b[39m\"\u001b[39m, \n\u001b[1;32m      5\u001b[0m              \u001b[39m\"\u001b[39m\u001b[39mЮжный административный округ\u001b[39m\u001b[39m\"\u001b[39m, \u001b[39m\"\u001b[39m\u001b[39mЮго-Западный административный округ\u001b[39m\u001b[39m\"\u001b[39m, \u001b[39m\"\u001b[39m\u001b[39mВосточный административный округ\u001b[39m\u001b[39m\"\u001b[39m, \n\u001b[1;32m      6\u001b[0m              \u001b[39m\"\u001b[39m\u001b[39mЦентральный административный округ\u001b[39m\u001b[39m\"\u001b[39m, \u001b[39m\"\u001b[39m\u001b[39mНовомосковский административный округ\u001b[39m\u001b[39m\"\u001b[39m]\n\u001b[1;32m      8\u001b[0m moscow_hexagones_8 \u001b[39m=\u001b[39m oh\u001b[39m.\u001b[39mget_hexagones(\u001b[39m'\u001b[39m\u001b[39mMoscow\u001b[39m\u001b[39m'\u001b[39m, moscow_wanted_districts, \u001b[39m8\u001b[39m)\n",
      "File \u001b[0;32m~/Ayhem18/DEV/Data_science/Postamats_project/postamat-full/hak_ml_final/original_hexagones.py:3\u001b[0m\n\u001b[1;32m      1\u001b[0m \u001b[39m# imports\u001b[39;00m\n\u001b[0;32m----> 3\u001b[0m \u001b[39mimport\u001b[39;00m \u001b[39mgeopandas\u001b[39;00m \u001b[39mas\u001b[39;00m \u001b[39mgpd\u001b[39;00m\n\u001b[1;32m      4\u001b[0m \u001b[39mimport\u001b[39;00m \u001b[39mpandas\u001b[39;00m \u001b[39mas\u001b[39;00m \u001b[39mpd\u001b[39;00m\n\u001b[1;32m      5\u001b[0m \u001b[39mimport\u001b[39;00m \u001b[39mnumpy\u001b[39;00m \u001b[39mas\u001b[39;00m \u001b[39mnp\u001b[39;00m\n",
      "\u001b[0;31mModuleNotFoundError\u001b[0m: No module named 'geopandas'"
     ]
    }
   ],
   "source": [
    "import original_hexagones as oh\n",
    "\n",
    "moscow_wanted_districts = ['Северный административный округ', \"Западный административный округ\", \"Северо-Западный административный округ\"\n",
    "             , \"Северо-Восточный административный округ\", \"Юго-Восточный административный округ\", \n",
    "             \"Южный административный округ\", \"Юго-Западный административный округ\", \"Восточный административный округ\", \n",
    "             \"Центральный административный округ\", \"Новомосковский административный округ\"]\n",
    "\n",
    "moscow_hexagones_8 = oh.get_hexagones('Moscow', moscow_wanted_districts, 8)\n",
    "\n",
    "print(moscow_hexagones_8.shape)\n"
   ]
  }
 ],
 "metadata": {
  "kernelspec": {
   "display_name": "Python 3.10.6 64-bit",
   "language": "python",
   "name": "python3"
  },
  "language_info": {
   "codemirror_mode": {
    "name": "ipython",
    "version": 3
   },
   "file_extension": ".py",
   "mimetype": "text/x-python",
   "name": "python",
   "nbconvert_exporter": "python",
   "pygments_lexer": "ipython3",
   "version": "3.10.6"
  },
  "orig_nbformat": 4,
  "vscode": {
   "interpreter": {
    "hash": "916dbcbb3f70747c44a77c7bcd40155683ae19c65e1c03b4aa3499c5328201f1"
   }
  }
 },
 "nbformat": 4,
 "nbformat_minor": 2
}
