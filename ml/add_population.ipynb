{
 "cells": [
  {
   "cell_type": "code",
   "execution_count": 15,
   "metadata": {},
   "outputs": [],
   "source": [
    "import geopandas as gpd\n",
    "import pandas as pd\n",
    "import numpy as np\n",
    "import json\n",
    "import h3\n",
    "import folium\n",
    "import osmnx as ox\n",
    "from shapely import wkt\n",
    "from folium.plugins import HeatMap\n",
    "from shapely.geometry import Polygon\n",
    "from shapely.geometry import Point\n",
    "import os"
   ]
  },
  {
   "cell_type": "code",
   "execution_count": 16,
   "metadata": {},
   "outputs": [],
   "source": [
    "RESOLUTION = 8"
   ]
  },
  {
   "cell_type": "markdown",
   "metadata": {},
   "source": [
    "# добавить население"
   ]
  },
  {
   "cell_type": "code",
   "execution_count": 17,
   "metadata": {},
   "outputs": [],
   "source": [
    "pop_loc = \"pop.gpkg\" # имя файла, в котором хранятся данные о населении\n",
    "df_pop = gpd.read_file(pop_loc).loc[:, ['h3', 'population']].set_index('h3')"
   ]
  },
  {
   "cell_type": "code",
   "execution_count": 18,
   "metadata": {},
   "outputs": [],
   "source": [
    "pop_idx = set(df_pop.index)"
   ]
  },
  {
   "cell_type": "code",
   "execution_count": 19,
   "metadata": {},
   "outputs": [],
   "source": [
    "# извлеките обучающие данные без данных о населении и движении в метро.\n",
    "\n",
    "training_data_loc = os.path.join(\"osm_features\", f\"training_data_{str(RESOLUTION)}.xlsx\")\n",
    "training_data = pd.read_excel(training_data_loc).set_index('h3')\n"
   ]
  },
  {
   "cell_type": "code",
   "execution_count": 21,
   "metadata": {},
   "outputs": [],
   "source": [
    "# объединить данные о населении с текущими данными обучения по индексу H3 (резолюция 8)\n",
    "\n",
    "train_data_pop = pd.merge(training_data, df_pop, how='left', left_index=True, right_index=True)"
   ]
  },
  {
   "cell_type": "code",
   "execution_count": 23,
   "metadata": {},
   "outputs": [],
   "source": [
    "# обучающие данные теперь завершены: время добавить целевую переменную\n",
    "\n",
    "train_data_pop.to_excel(os.path.join(f\"data_{str(RESOLUTION)}\", \"train_data_pop.xlsx\"))"
   ]
  },
  {
   "cell_type": "markdown",
   "metadata": {},
   "source": [
    "# Железнодорожные станции"
   ]
  },
  {
   "cell_type": "code",
   "execution_count": 26,
   "metadata": {},
   "outputs": [],
   "source": [
    "# объедините текущие данные обучения с текущими данными обучения\n",
    "metro_loc = os.path.join(\"use_data\", \"transport\", \"metro_pop.xlsx\")\n",
    "metro_data = pd.read_excel(metro_loc).loc[:, ['TotalPassengers', \"h3\"]].set_index('h3')\n",
    "train_data_pop_metro= pd.merge(train_data_pop, metro_data, how='left', left_index=True, right_index=True)"
   ]
  },
  {
   "cell_type": "code",
   "execution_count": 28,
   "metadata": {},
   "outputs": [],
   "source": [
    "# обучающие данные теперь завершены: время добавить целевую переменную\n",
    "\n",
    "train_data_pop_metro.fillna(0, inplace=True)\n",
    "\n",
    "train_data_pop_metro.to_excel(os.path.join(f\"data_{str(RESOLUTION)}\", \"training_data.xlsx\"))"
   ]
  }
 ],
 "metadata": {
  "kernelspec": {
   "display_name": "ds_env",
   "language": "python",
   "name": "ds_env"
  },
  "language_info": {
   "codemirror_mode": {
    "name": "ipython",
    "version": 3
   },
   "file_extension": ".py",
   "mimetype": "text/x-python",
   "name": "python",
   "nbconvert_exporter": "python",
   "pygments_lexer": "ipython3",
   "version": "3.10.6"
  },
  "orig_nbformat": 4,
  "vscode": {
   "interpreter": {
    "hash": "916dbcbb3f70747c44a77c7bcd40155683ae19c65e1c03b4aa3499c5328201f1"
   }
  }
 },
 "nbformat": 4,
 "nbformat_minor": 2
}
