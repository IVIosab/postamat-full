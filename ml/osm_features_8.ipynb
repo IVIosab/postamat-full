{
 "cells": [
  {
   "cell_type": "markdown",
   "metadata": {},
   "source": [
    "# Imports and Constants"
   ]
  },
  {
   "cell_type": "code",
   "execution_count": 91,
   "metadata": {},
   "outputs": [],
   "source": [
    "import geopandas as gpd\n",
    "import pandas as pd\n",
    "import numpy as np\n",
    "import json\n",
    "import h3\n",
    "import folium\n",
    "import osmnx as ox\n",
    "from shapely import wkt\n",
    "from folium.plugins import HeatMap\n",
    "from shapely.geometry import Polygon\n",
    "from shapely.geometry import Point\n",
    "from shapely.geometry import LineString\n",
    "from shapely.geometry import MultiPolygon\n",
    "import os\n",
    "from area import area\n",
    "from shapely.geometry import mapping\n",
    "from pyproj import Geod"
   ]
  },
  {
   "cell_type": "code",
   "execution_count": 92,
   "metadata": {},
   "outputs": [],
   "source": [
    "MOSCOW = \"Moscow\"\n",
    "RESOLUTION = 8\n",
    "# константы для сохранения значений площади в управляемом масштабе\n",
    "KM_2 = 10 ** 3"
   ]
  },
  {
   "cell_type": "markdown",
   "metadata": {},
   "source": [
    "## General functions"
   ]
  },
  {
   "cell_type": "code",
   "execution_count": 93,
   "metadata": {},
   "outputs": [],
   "source": [
    "def_cols = ['h3', 'lat', 'lng', 'area']"
   ]
  },
  {
   "cell_type": "code",
   "execution_count": 94,
   "metadata": {},
   "outputs": [],
   "source": [
    "# получить адрес h3 и координаты из геометрического объекта\n",
    "def get_h3_geo(g, res=RESOLUTION):\n",
    "    lng = g.x if isinstance(g, Point) else g.centroid.x     \n",
    "    lat = g.y if isinstance(g, Point) else g.centroid.y\n",
    "    h3_addr = h3.geo_to_h3(lat=lat, lng=lng, resolution=res)\n",
    "    return h3_addr, lat, lng\n",
    "\n",
    "# получить площадь реального географического местоположения, представленного геометрическим объектом\n",
    "def get_area(geo):\n",
    "    geod = Geod(ellps=\"WGS84\") \n",
    "    return abs(geod.geometry_area_perimeter(geo)[0]) / KM_2\n"
   ]
  },
  {
   "cell_type": "code",
   "execution_count": 95,
   "metadata": {},
   "outputs": [],
   "source": [
    "# функция для извлечения адреса и координат H3 из фрейма данных pandas\n",
    "def get_h3(row, res=RESOLUTION):\n",
    "    g = row['geometry']\n",
    "    row['h3'], row['lat'], row['lng'] = get_h3_geo(g, res)\n",
    "    return row\n",
    "\n",
    "def get_default(row):\n",
    "    row_geo = get_h3(row)\n",
    "    row_geo['area'] = get_area(row['geometry'])\n",
    "    return row_geo"
   ]
  },
  {
   "cell_type": "code",
   "execution_count": 96,
   "metadata": {},
   "outputs": [],
   "source": [
    "# возвращает все серии геопанд, представляющие объекты с переданным тегом в переданном городе\n",
    "\n",
    "def osm_query(city, tag):\n",
    "    gdf = ox.geometries_from_place(city, tag).reset_index()\n",
    "    print(gdf.shape)\n",
    "    return gdf"
   ]
  },
  {
   "cell_type": "code",
   "execution_count": 97,
   "metadata": {},
   "outputs": [],
   "source": [
    "def get_h3_point(point):\n",
    "    h3_a, lat, lng = get_h3_geo(point)\n",
    "    return [h3_a]    \n",
    "\n",
    "def get_h3_lineString(ls: LineString):\n",
    "    \"\"\" возвращает список уникальных адресов h3 шестиугольников, охватываемых объектом LineString\n",
    "\n",
    "    Аргументы:\n",
    "    ls (_type_): рассматриваемый объект LineString\n",
    "\n",
    "    Возвращается:\n",
    "    список адресов h3\n",
    "    \"\"\"    \n",
    "    h3_s = set()\n",
    "    x, y = ls.coords.xy\n",
    "    for p_x, p_y in zip(x, y):\n",
    "        # получить адрес h3 шестиугольника, к которому принадлежит эта конкретная точка\n",
    "        \n",
    "        h3_addr = h3.geo_to_h3(lat=p_y, lng=p_x, resolution=RESOLUTION)\n",
    "        \n",
    "        # добавьте адрес в набор\n",
    "        h3_s.add(h3_addr)\n",
    "    return h3_s\n",
    "\n",
    "def get_h3_Poly(poly: Polygon):\n",
    "    \"\"\"Эта функция возвращает уникальный набор адресов h3, которые представляют шестиугольники, охватываемые объектом Polygon.\n",
    "\n",
    "        Аргументы:\n",
    "            poly (многоугольник): рассматриваемый многоугольник\n",
    "\n",
    "        Возвращается:\n",
    "            _тип_: _ описание_\n",
    "        \"\"\"\n",
    "    h3_s = set()\n",
    "    x, y = poly.exterior.coords.xy\n",
    "    for p_x,p_y in zip(x, y):\n",
    "        # get the h3 address of the hexagone to which this particular point belongs\n",
    "        h3_addr = h3.geo_to_h3(lat=p_y, lng=p_x, resolution=RESOLUTION)\n",
    "        # add the address to the set\n",
    "        h3_s.add(h3_addr)\n",
    "    return h3_s\n",
    "\n",
    "\n",
    "def get_h3_MultiPoly(m_poly: MultiPolygon):\n",
    "    h3_s = set()\n",
    "    for poly in m_poly.geoms:\n",
    "        h3_s.update(get_h3_Poly(poly))\n",
    "    return h3_s\n",
    "\n",
    "def get_h3_area(g):\n",
    "    \"\"\" Эта функция вычисляет площадь геометрии и возвращает адрес h3 всех шестиугольников, с которыми она перекрывается\n",
    "    \"\"\"    \n",
    "    \n",
    "    # получить площадь геометрии\n",
    "    area = get_area(g)\n",
    "    addresses = None\n",
    "\n",
    "    # вызовите соответствующую функцию, чтобы получить адреса в зависимости от типа\n",
    "        \n",
    "    if isinstance(g, Point):\n",
    "        addresses = get_h3_point(g)\n",
    "    elif isinstance(g, LineString):\n",
    "        addresses = get_h3_lineString(g)\n",
    "    elif isinstance(g, Polygon):\n",
    "        addresses = get_h3_Poly(g)\n",
    "    else:\n",
    "        addresses = get_h3_MultiPoly(g)\n",
    "    return area, addresses\n",
    "        "
   ]
  },
  {
   "cell_type": "code",
   "execution_count": 98,
   "metadata": {},
   "outputs": [],
   "source": [
    "COLS = ['h3', 'count', 'area']\n",
    "def get_count_area_tag(tag):\n",
    "    # extract the data from osm\n",
    "\n",
    "    g = osm_query(MOSCOW, tag).loc[:, 'geometry']\n",
    "    # словарь для сопоставления h3 с общим количеством вхождений\n",
    "    \n",
    "    h3_count = {}\n",
    "\n",
    "    # словарь для сопоставления адреса h3 с общей площадью\n",
    "    h3_area = {}\n",
    "    for geo in g:\n",
    "\n",
    "        # извлеките область и адреса, связанные с геометрией\n",
    "        area, adds = get_h3_area(geo)\n",
    "\n",
    "        # для каждого адреса\n",
    "        \n",
    "        for ad in adds:\n",
    "\n",
    "            # если адрес появился раньше, добавьте 1 к его счетчику, а область геометрии - в словарь областей\n",
    "            \n",
    "            if ad in h3_count:\n",
    "                h3_count[ad] += 1\n",
    "                h3_area[ad] += area\n",
    "            else:\n",
    "\n",
    "                # в противном случае установите для него соответствующие начальные значения\n",
    "                \n",
    "                h3_count[ad] = 1\n",
    "                h3_area[ad] = area\n",
    "    res = pd.DataFrame({\"h3\": list(h3_area.keys()), \"count\": list(h3_count.values()), \"area\": list(h3_area.values())})\n",
    "    return res"
   ]
  },
  {
   "cell_type": "code",
   "execution_count": 99,
   "metadata": {},
   "outputs": [],
   "source": [
    "def get_tags(tags, name):\n",
    "    df_res = pd.DataFrame(data=[], columns=COLS)\n",
    "    for t in tags:\n",
    "        # получите адреса h3 и связанные с ними области и количество для каждого тега\n",
    "                \n",
    "        df_tag = get_count_area_tag(t)\n",
    "        # concat it to the resulting pandas dataframe    \n",
    "        \n",
    "        df_res = pd.concat([df_res, df_tag])\n",
    "    \n",
    "    # после сбора данных по всем тегам:\n",
    "    # сгруппируйте по h3 и рассмотрите сумму отсчетов и площадей    \n",
    "    \n",
    "    df_res_area = pd.pivot_table(df_res, index='h3', values=['area'], aggfunc=[np.sum])\n",
    "    df_res_count = pd.pivot_table(df_res, index='h3', values=['count'], aggfunc=[np.sum])\n",
    "    final_df = pd.merge(df_res_count, df_res_area, right_index=True, left_index=True)\n",
    "    final_df.columns = [f\"{name}_count\", f\"{name}_area\"]\n",
    "    final_df.to_excel(os.path.join(\"osm_features\", f\"{name}.xlsx\"))\n",
    "    return final_df"
   ]
  },
  {
   "cell_type": "markdown",
   "metadata": {},
   "source": [
    "## ОСОБЕННОСТИ ОБРАЗОВАНИЯ"
   ]
  },
  {
   "cell_type": "code",
   "execution_count": 100,
   "metadata": {},
   "outputs": [],
   "source": [
    "tags_education = [{\"amenity\": \"college\"}, {\"amenity\": \"school\"}, {\"amenity\": \"university\"}]"
   ]
  },
  {
   "cell_type": "code",
   "execution_count": 101,
   "metadata": {},
   "outputs": [
    {
     "name": "stdout",
     "output_type": "stream",
     "text": [
      "(281, 88)\n",
      "(1949, 152)\n",
      "(380, 194)\n"
     ]
    }
   ],
   "source": [
    "edu_df = get_tags(tags_education, \"education\")"
   ]
  },
  {
   "cell_type": "markdown",
   "metadata": {},
   "source": [
    "## ОСОБЕННОСТИ парковки"
   ]
  },
  {
   "cell_type": "code",
   "execution_count": 102,
   "metadata": {},
   "outputs": [
    {
     "name": "stdout",
     "output_type": "stream",
     "text": [
      "(15069, 139)\n"
     ]
    }
   ],
   "source": [
    "tags_parking = [{\"amenity\":\"parking\"}]\n",
    "trans_df = get_tags(tags_parking, \"parking\")\n",
    "# gdf_trans = get_final_df(def_cols, tags_parking, get_default, \"transport\")"
   ]
  },
  {
   "cell_type": "code",
   "execution_count": 103,
   "metadata": {},
   "outputs": [
    {
     "name": "stdout",
     "output_type": "stream",
     "text": [
      "(9539, 115)\n"
     ]
    }
   ],
   "source": [
    "tags_bus = [{\"highway\":\"bus_stop\"}]\n",
    "bus_df = get_tags(tags_bus, \"bus\")\n",
    "bus_df = bus_df.loc[:, ['bus_count']]"
   ]
  },
  {
   "cell_type": "markdown",
   "metadata": {},
   "source": [
    "## Финансовые особенности"
   ]
  },
  {
   "cell_type": "code",
   "execution_count": 104,
   "metadata": {},
   "outputs": [
    {
     "name": "stdout",
     "output_type": "stream",
     "text": [
      "(2144, 91)\n",
      "(2047, 118)\n",
      "(129, 39)\n"
     ]
    }
   ],
   "source": [
    "tags_financial = [{\"amenity\": \"atm\"}, {\"amenity\": \"bank\"}, {\"amenity\": \"bureau_de_change\"}]\n",
    "financial_df = get_tags(tags_financial, \"financial\")"
   ]
  },
  {
   "cell_type": "markdown",
   "metadata": {},
   "source": [
    "## Особенности размещения"
   ]
  },
  {
   "cell_type": "code",
   "execution_count": 105,
   "metadata": {},
   "outputs": [],
   "source": [
    "acc_tags = [{'building' : 'apartments'}, {'building' : 'detached'}, \n",
    "        {'building' : 'dormitory'}, {'building' : 'hotel'}, \n",
    "        {'building' : 'house'}]"
   ]
  },
  {
   "cell_type": "code",
   "execution_count": 106,
   "metadata": {},
   "outputs": [
    {
     "name": "stdout",
     "output_type": "stream",
     "text": [
      "(30283, 168)\n",
      "(219, 30)\n",
      "(325, 67)\n",
      "(121, 108)\n",
      "(3040, 71)\n"
     ]
    }
   ],
   "source": [
    "acc_df = get_tags(acc_tags, \"accomodation\")"
   ]
  },
  {
   "cell_type": "markdown",
   "metadata": {},
   "source": [
    "# Коммерческие функции"
   ]
  },
  {
   "cell_type": "code",
   "execution_count": 107,
   "metadata": {},
   "outputs": [
    {
     "name": "stdout",
     "output_type": "stream",
     "text": [
      "(1864, 179)\n",
      "(2072, 205)\n",
      "(19, 36)\n"
     ]
    }
   ],
   "source": [
    "commercial_tags = [{'building' : 'commercial'}, {'building' : 'retail'}, {'building' : 'supermarket'}]\n",
    "commercial_df = get_tags(commercial_tags, \"commercial\")"
   ]
  },
  {
   "cell_type": "markdown",
   "metadata": {},
   "source": [
    "# Здравоохранение"
   ]
  },
  {
   "cell_type": "code",
   "execution_count": 108,
   "metadata": {},
   "outputs": [],
   "source": [
    "health_care_tags = [{\"amenity\":\"hospital\"}, {\"amenity\": \"clinic\"}]"
   ]
  },
  {
   "cell_type": "code",
   "execution_count": 109,
   "metadata": {},
   "outputs": [
    {
     "name": "stdout",
     "output_type": "stream",
     "text": [
      "(264, 100)\n",
      "(1361, 158)\n"
     ]
    }
   ],
   "source": [
    "# gdf_health_care = get_final_df(def_cols, health_care_tags, get_default, \"health_care\")\n",
    "df_health_care = get_tags(health_care_tags, \"health_care\")"
   ]
  },
  {
   "cell_type": "markdown",
   "metadata": {},
   "source": [
    "# Развлечения"
   ]
  },
  {
   "cell_type": "code",
   "execution_count": 110,
   "metadata": {},
   "outputs": [
    {
     "name": "stdout",
     "output_type": "stream",
     "text": [
      "(0, 2)\n",
      "(90, 43)\n",
      "(128, 76)\n",
      "(0, 2)\n",
      "(323, 123)\n"
     ]
    }
   ],
   "source": [
    "enter_tags = [{\"amenity\":\"gambling\"}, {\"amenity\":\"nightclub\"}, {\"amenity\": \"cinema\"}, {\"amenity\": \"conference_centre\"}\n",
    "              , {\"amenity\": \"community_centre\"}]\n",
    "gdf_entertainment = get_tags(enter_tags, \"entertainment\")"
   ]
  },
  {
   "cell_type": "markdown",
   "metadata": {},
   "source": [
    "# пропитание"
   ]
  },
  {
   "cell_type": "code",
   "execution_count": 111,
   "metadata": {},
   "outputs": [
    {
     "name": "stdout",
     "output_type": "stream",
     "text": [
      "(674, 93)\n",
      "(3743, 189)\n",
      "(3222, 186)\n",
      "(59, 43)\n",
      "(381, 64)\n",
      "(329, 81)\n",
      "(2468, 163)\n"
     ]
    }
   ],
   "source": [
    "sus_tags = [{\"amenity\":\"bar\"}, {\"amenity\":\"cafe\"}, {\"amenity\":\"fast_food\"}, {\"amenity\":\"food_court\"}, \n",
    "            {\"amenity\":\"ice_cream\"}, {\"amenity\":\"pub\"}, {\"amenity\":\"restaurant\"}]\n",
    "\n",
    "sustenance_df = get_tags(sus_tags, \"sustenance\")"
   ]
  },
  {
   "cell_type": "markdown",
   "metadata": {},
   "source": [
    "# Правительство"
   ]
  },
  {
   "cell_type": "code",
   "execution_count": 112,
   "metadata": {},
   "outputs": [
    {
     "name": "stdout",
     "output_type": "stream",
     "text": [
      "(96, 61)\n"
     ]
    }
   ],
   "source": [
    "gover_tags = [{\"building\":\"government\"}]\n",
    "gover_df = get_tags(gover_tags, \"government\")"
   ]
  },
  {
   "cell_type": "code",
   "execution_count": 113,
   "metadata": {},
   "outputs": [
    {
     "name": "stdout",
     "output_type": "stream",
     "text": [
      "(15, 33)\n",
      "(11, 38)\n"
     ]
    }
   ],
   "source": [
    "sport_tags = [{\"building\":\"sports_hall\"}, {\"building\":\"stadium\"}]\n",
    "sports_df = get_tags(sport_tags,\"sports\")"
   ]
  },
  {
   "cell_type": "markdown",
   "metadata": {},
   "source": [
    "# АВТОМОБИЛЬНЫЕ ДОРОГИ"
   ]
  },
  {
   "cell_type": "code",
   "execution_count": 114,
   "metadata": {},
   "outputs": [],
   "source": [
    "highway_tags = [{\"highway\":\"primary\"}, {\"highway\":\"secondary\"}, {\"highway\":\"tertiary\"}, {\"highway\":\"residential\"}, {\"highway\":\"pedestrian\"}]"
   ]
  },
  {
   "cell_type": "code",
   "execution_count": 115,
   "metadata": {},
   "outputs": [],
   "source": [
    "def get_highway(tag, res=RESOLUTION):\n",
    "    res_gdf = gpd.GeoDataFrame(data=[], columns=['h3', 'length', 'count'])\n",
    "    loc = os.path.join(\"osm_features\")\n",
    "    g = osm_query(MOSCOW, tag).loc[:, ['geometry']]\n",
    "    g_length = g.to_crs(epsg=3763)\n",
    "\n",
    "        \n",
    "    h_type = list(tag.values())[0]\n",
    "    name = f\"highway_{h_type}\"\n",
    "    # f\"length_{name}\"\n",
    "    idx = 0\n",
    "    for w, w_l in zip(g['geometry'], g_length['geometry']):\n",
    "        # the total length of the highway (possibly an approximation)\n",
    "        l = w_l.length / KM_2\n",
    "        \n",
    "        points_highway = {}\n",
    "        \n",
    "        if isinstance(w, LineString):\n",
    "            # get the coordinates of the points within the highway\n",
    "            x, y = w.coords.xy\n",
    "            for p_x, p_y in zip(x, y):\n",
    "                # get the hexagone to where the point in the high belongs\n",
    "                h3_add = h3.geo_to_h3(lat=p_y, lng=p_x, resolution=res)\n",
    "                # if this hexagone was already considered, then add 1 to its value\n",
    "                if h3_add in points_highway:\n",
    "                    points_highway[h3_add] += 1\n",
    "                # otherwise set it to 1: as it is the first point \n",
    "                else:\n",
    "                    points_highway[h3_add] = 1\n",
    "        else: \n",
    "            print(type(w))        \n",
    "            break\n",
    "        \n",
    "        for key, value in points_highway.items():    \n",
    "            # # add a row with the hexagons 'h3' address, the length of the highway passing through that hexagone\n",
    "            # # and the number of points in the intersection between the hexagonal and the highway            \n",
    "            res_gdf.at[idx, 'h3'] = key\n",
    "            res_gdf.at[idx, 'length'] = l\n",
    "            res_gdf.at[idx, 'count'] = value\n",
    "            idx += 1\n",
    "\n",
    "    # как и сейчас, каждая строка содержит адрес h3 точки, принадлежащей автомагистрали\n",
    "    # и длина пути, который он соответствует\n",
    "    # пришло время сгруппироваться по h3_addresses\n",
    "    # и вычислите количество точек на пересечении между шоссе и зоной \n",
    "       \n",
    "    res_gdf = pd.pivot_table(res_gdf, index='h3', values=['length', 'count'], aggfunc=[np.sum])\n",
    "    res_gdf.columns = [f'count_{name}', f'length_{name}']\n",
    "    res_gdf.to_excel(os.path.join(loc, f'{name}.xlsx'))\n",
    "    return res_gdf"
   ]
  },
  {
   "cell_type": "code",
   "execution_count": 116,
   "metadata": {},
   "outputs": [
    {
     "name": "stdout",
     "output_type": "stream",
     "text": [
      "(3732, 133)\n",
      "(8344, 173)\n",
      "(7545, 185)\n",
      "(4983, 174)\n",
      "(631, 126)\n",
      "<class 'shapely.geometry.polygon.Polygon'>\n"
     ]
    }
   ],
   "source": [
    "highway_dfs = [get_highway(t) for t in highway_tags]"
   ]
  },
  {
   "cell_type": "markdown",
   "metadata": {},
   "source": [
    "# Merging"
   ]
  },
  {
   "cell_type": "code",
   "execution_count": 117,
   "metadata": {},
   "outputs": [
    {
     "name": "stdout",
     "output_type": "stream",
     "text": [
      "                       lat        lng  bus_freq_count\n",
      "h3                                                   \n",
      "891181b0093ffff  55.442051  37.531711               0\n",
      "891181b0097ffff  55.444627  37.534808               0\n",
      "891181b009bffff  55.439178  37.533722               0\n",
      "891181b0403ffff  55.440369  37.513295               0\n",
      "891181b0407ffff  55.442944  37.516390               0\n"
     ]
    }
   ],
   "source": [
    "hex_loc = os.path.join(f\"data_{str(RESOLUTION)}\", \"regions_bus_traff.xlsx\")\n",
    "hex = pd.read_excel(hex_loc).set_index('h3')\n",
    "print(hex.head())"
   ]
  },
  {
   "cell_type": "code",
   "execution_count": 118,
   "metadata": {},
   "outputs": [],
   "source": [
    "features_dfs = [edu_df, trans_df, bus_df, financial_df,\n",
    "                acc_df, commercial_df\n",
    "                , df_health_care, gdf_entertainment,\n",
    "                sustenance_df, gover_df, sports_df]\n",
    "features_dfs.extend(highway_dfs)\n",
    "\n",
    "def merge_zone_feature(hex, df_feat):\n",
    "    try:\n",
    "        hex = hex.set_index('h3')\n",
    "    except KeyError:\n",
    "        pass\n",
    "    try:\n",
    "        df_feat = df_feat.set_index('h3')\n",
    "    except:\n",
    "        pass\n",
    "    hex = pd.merge(hex, df_feat, how='left', right_index=True, left_index=True)\n",
    "    return hex, df_feat\n",
    "df = hex.copy() \n",
    "for feat in features_dfs:\n",
    "    df, _ = merge_zone_feature(df, feat)\n",
    "    # print(df.isna().sum())\n",
    "    # print(\"#\" * 50)"
   ]
  },
  {
   "cell_type": "code",
   "execution_count": 119,
   "metadata": {},
   "outputs": [],
   "source": [
    "df = df.fillna(0)\n",
    "df.to_excel(os.path.join(\"osm_features\", f\"training_data_{str(RESOLUTION)}.xlsx\"))"
   ]
  }
 ],
 "metadata": {
  "kernelspec": {
   "display_name": "ds_env",
   "language": "python",
   "name": "ds_env"
  },
  "language_info": {
   "codemirror_mode": {
    "name": "ipython",
    "version": 3
   },
   "file_extension": ".py",
   "mimetype": "text/x-python",
   "name": "python",
   "nbconvert_exporter": "python",
   "pygments_lexer": "ipython3",
   "version": "3.10.6"
  },
  "orig_nbformat": 4,
  "vscode": {
   "interpreter": {
    "hash": "916dbcbb3f70747c44a77c7bcd40155683ae19c65e1c03b4aa3499c5328201f1"
   }
  }
 },
 "nbformat": 4,
 "nbformat_minor": 2
}
