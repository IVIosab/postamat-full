{
 "cells": [
  {
   "cell_type": "markdown",
   "metadata": {},
   "source": [
    "# Обзор\n",
    "Этот блокнот используется для извлечения необходимой информации об уже используемых postamates. Последнее заложит основу целевой переменной в процессе машинного обучения."
   ]
  },
  {
   "cell_type": "code",
   "execution_count": 1,
   "metadata": {},
   "outputs": [],
   "source": [
    "import os\n",
    "import pandas as pd\n",
    "import numpy as np\n",
    "import h3\n",
    "import json"
   ]
  },
  {
   "cell_type": "code",
   "execution_count": 2,
   "metadata": {},
   "outputs": [],
   "source": [
    "RESOLUTION = 8"
   ]
  },
  {
   "cell_type": "code",
   "execution_count": 3,
   "metadata": {},
   "outputs": [],
   "source": [
    "# # давайте начнем с пункта выбора почтовых партнеров\n",
    "\n",
    "pos_loc = os.path.join(\"postamats\", \"pick_points.xls\")\n",
    "pps = pd.read_excel(pos_loc)"
   ]
  },
  {
   "cell_type": "code",
   "execution_count": 4,
   "metadata": {},
   "outputs": [
    {
     "data": {
      "text/html": [
       "<div>\n",
       "<style scoped>\n",
       "    .dataframe tbody tr th:only-of-type {\n",
       "        vertical-align: middle;\n",
       "    }\n",
       "\n",
       "    .dataframe tbody tr th {\n",
       "        vertical-align: top;\n",
       "    }\n",
       "\n",
       "    .dataframe thead th {\n",
       "        text-align: right;\n",
       "    }\n",
       "</style>\n",
       "<table border=\"1\" class=\"dataframe\">\n",
       "  <thead>\n",
       "    <tr style=\"text-align: right;\">\n",
       "      <th></th>\n",
       "      <th>lat</th>\n",
       "      <th>lng</th>\n",
       "    </tr>\n",
       "  </thead>\n",
       "  <tbody>\n",
       "    <tr>\n",
       "      <th>4</th>\n",
       "      <td>55.609675</td>\n",
       "      <td>37.720106</td>\n",
       "    </tr>\n",
       "    <tr>\n",
       "      <th>5</th>\n",
       "      <td>55.729833</td>\n",
       "      <td>37.731021</td>\n",
       "    </tr>\n",
       "    <tr>\n",
       "      <th>6</th>\n",
       "      <td>55.815319</td>\n",
       "      <td>37.737845</td>\n",
       "    </tr>\n",
       "    <tr>\n",
       "      <th>7</th>\n",
       "      <td>55.658959</td>\n",
       "      <td>37.742099</td>\n",
       "    </tr>\n",
       "    <tr>\n",
       "      <th>8</th>\n",
       "      <td>55.806039</td>\n",
       "      <td>37.395572</td>\n",
       "    </tr>\n",
       "  </tbody>\n",
       "</table>\n",
       "</div>"
      ],
      "text/plain": [
       "         lat        lng\n",
       "4  55.609675  37.720106\n",
       "5  55.729833  37.731021\n",
       "6  55.815319  37.737845\n",
       "7  55.658959  37.742099\n",
       "8  55.806039  37.395572"
      ]
     },
     "execution_count": 4,
     "metadata": {},
     "output_type": "execute_result"
    }
   ],
   "source": [
    "pps.head()\n",
    "ms_pps = pps[pps[\"city\"].str.lower() == 'москва']\n",
    "ms_pps = ms_pps.loc[:, ['lat', 'lng']]\n",
    "ms_pps.head()\n"
   ]
  },
  {
   "cell_type": "code",
   "execution_count": 5,
   "metadata": {},
   "outputs": [
    {
     "name": "stdout",
     "output_type": "stream",
     "text": [
      "(1663, 3)\n"
     ]
    }
   ],
   "source": [
    "def get_h3(row):\n",
    "    row['h3'] = h3.geo_to_h3(lat=row['lat'], lng=row['lng'], resolution=RESOLUTION)\n",
    "    return row\n",
    "ms_pps = ms_pps.apply(get_h3, axis=1) # теперь у нас есть каждый postamt, назначенный шестиугольнику h3\n",
    "\n",
    "print(ms_pps.shape)"
   ]
  },
  {
   "cell_type": "code",
   "execution_count": 6,
   "metadata": {},
   "outputs": [
    {
     "name": "stdout",
     "output_type": "stream",
     "text": [
      "[{'name': None, 'href': 'https://yandex.ru/maps/org/sberlogistika/91452306293/', 'coordinates': '37.492430,55.654945'}, {'name': None, 'href': 'https://yandex.ru/maps/org/5post/88203260828/', 'coordinates': '37.647994,55.586232'}, {'name': None, 'href': 'https://yandex.ru/maps/org/sberlogistika/60639548802/', 'coordinates': '37.491046,55.667506'}, {'name': None, 'href': 'https://yandex.ru/maps/org/postamat_yandeks_marketa/108030982491/', 'coordinates': '37.471625,55.633981'}, {'name': None, 'href': 'https://yandex.ru/maps/org/5post/227726346799/', 'coordinates': '37.649526,55.578867'}]\n",
      "[55.654945, 55.586232, 55.667506, 55.633981, 55.578867]\n",
      "[37.49243, 37.647994, 37.491046, 37.471625, 37.649526]\n"
     ]
    }
   ],
   "source": [
    "pos_loc = os.path.join(\"postamats\", \"all_postamats.json\")\n",
    "\n",
    "with open(pos_loc) as f:\n",
    "   data = json.load(f)\n",
    "\n",
    "lats = [float(t['coordinates'].split(\",\")[1]) for t in data]\n",
    "lngs = [float(t['coordinates'].split(\",\")[0]) for t in data]\n",
    "\n",
    "print(data[-5:])\n",
    "print(lats[-5:])\n",
    "print(lngs[-5:])"
   ]
  },
  {
   "cell_type": "code",
   "execution_count": 7,
   "metadata": {},
   "outputs": [
    {
     "name": "stdout",
     "output_type": "stream",
     "text": [
      "(2331, 2)\n"
     ]
    }
   ],
   "source": [
    "\n",
    "data_dict = {\"lat\": lats, \"lng\": lngs}\n",
    "postmats = pd.DataFrame(data=data_dict)\n",
    "print(postmats.shape)"
   ]
  },
  {
   "cell_type": "code",
   "execution_count": 8,
   "metadata": {},
   "outputs": [
    {
     "name": "stdout",
     "output_type": "stream",
     "text": [
      "         lat        lng\n",
      "0  55.789923  37.681442\n",
      "1  55.781475  37.564770\n",
      "2  55.707464  37.582725\n",
      "3  55.789652  37.665697\n",
      "4  55.800559  37.720051\n"
     ]
    }
   ],
   "source": [
    "print(postmats.head())\n",
    "postmats = postmats.apply(get_h3, axis=1)\n"
   ]
  },
  {
   "cell_type": "code",
   "execution_count": 10,
   "metadata": {},
   "outputs": [],
   "source": [
    "postmats = pd.concat([postmats, ms_pps], ignore_index=True)\n",
    "postmats.shape\n",
    "postmats.to_excel(\"postmats.xlsx\")"
   ]
  },
  {
   "cell_type": "code",
   "execution_count": 44,
   "metadata": {},
   "outputs": [],
   "source": [
    "post_count = pd.pivot_table(postmats, index='h3', aggfunc=['count'])"
   ]
  },
  {
   "cell_type": "code",
   "execution_count": 45,
   "metadata": {},
   "outputs": [],
   "source": [
    "post_count = post_count.loc[:, [('count', 'lat')]]\n",
    "\n",
    "post_count.columns = ['y']"
   ]
  },
  {
   "cell_type": "code",
   "execution_count": 46,
   "metadata": {},
   "outputs": [
    {
     "name": "stdout",
     "output_type": "stream",
     "text": [
      "                 y\n",
      "h3                \n",
      "8811818497fffff  1\n",
      "8811818c6dfffff  1\n",
      "8811818e25fffff  1\n",
      "8811818e99fffff  1\n",
      "8811819407fffff  1\n"
     ]
    }
   ],
   "source": [
    "print(post_count.head())"
   ]
  },
  {
   "cell_type": "code",
   "execution_count": 47,
   "metadata": {},
   "outputs": [],
   "source": [
    "d_train = pd.read_excel(os.path.join(f\"data_{str(RESOLUTION)}\", \"training_data.xlsx\"))"
   ]
  },
  {
   "cell_type": "code",
   "execution_count": null,
   "metadata": {},
   "outputs": [],
   "source": [
    "def merge_zone_feature(df, df_feat):\n",
    "    try:\n",
    "        df = df.set_index('h3')\n",
    "        df_feat = df_feat.set_index('h3')\n",
    "    except:\n",
    "        pass\n",
    "    df = pd.merge(df, df_feat, how='left', right_index=True, left_index=True)\n",
    "    return df, df_feat\n",
    "d_train, _ = merge_zone_feature(d_train, post_count)"
   ]
  },
  {
   "cell_type": "code",
   "execution_count": 50,
   "metadata": {},
   "outputs": [],
   "source": [
    "# теперь данные обучения завершены: функции и целевая переменная\n",
    "\n",
    "d_train.to_excel(os.path.join(\"training_data_y.xlsx\"))"
   ]
  },
  {
   "cell_type": "code",
   "execution_count": 51,
   "metadata": {},
   "outputs": [
    {
     "name": "stdout",
     "output_type": "stream",
     "text": [
      "Index(['lat', 'lng', 'bus_freq_count', 'education_count', 'education_area',\n",
      "       'parking_count', 'parking_area', 'bus_count', 'financial_count',\n",
      "       'financial_area', 'accomodation_count', 'accomodation_area',\n",
      "       'commercial_count', 'commercial_area', 'health_care_count',\n",
      "       'health_care_area', 'entertainment_count', 'entertainment_area',\n",
      "       'sustenance_count', 'sustenance_area', 'government_count',\n",
      "       'government_area', 'sports_count', 'sports_area',\n",
      "       'count_highway_primary', 'length_highway_primary',\n",
      "       'count_highway_secondary', 'length_highway_secondary',\n",
      "       'count_highway_tertiary', 'length_highway_tertiary',\n",
      "       'count_highway_residential', 'length_highway_residential',\n",
      "       'count_highway_pedestrian', 'length_highway_pedestrian', 'population',\n",
      "       'TotalPassengers', 'y'],\n",
      "      dtype='object')\n"
     ]
    }
   ],
   "source": [
    "print(d_train.columns)"
   ]
  }
 ],
 "metadata": {
  "kernelspec": {
   "display_name": "ds_env",
   "language": "python",
   "name": "ds_env"
  },
  "language_info": {
   "codemirror_mode": {
    "name": "ipython",
    "version": 3
   },
   "file_extension": ".py",
   "mimetype": "text/x-python",
   "name": "python",
   "nbconvert_exporter": "python",
   "pygments_lexer": "ipython3",
   "version": "3.10.6"
  },
  "orig_nbformat": 4,
  "vscode": {
   "interpreter": {
    "hash": "916dbcbb3f70747c44a77c7bcd40155683ae19c65e1c03b4aa3499c5328201f1"
   }
  }
 },
 "nbformat": 4,
 "nbformat_minor": 2
}
