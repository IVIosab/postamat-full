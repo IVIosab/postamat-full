{
 "cells": [
  {
   "cell_type": "code",
   "execution_count": 43,
   "metadata": {},
   "outputs": [],
   "source": [
    "import os\n",
    "import pandas as pd\n",
    "import shapely\n",
    "from shapely.geometry import Point\n",
    "from shapely.geometry import Polygon\n",
    "import h3\n",
    "import numpy as np"
   ]
  },
  {
   "cell_type": "markdown",
   "metadata": {},
   "source": [
    "Test_dataset - это данные географических местоположений для оценки как возможных местоположений postmates."
   ]
  },
  {
   "cell_type": "code",
   "execution_count": 44,
   "metadata": {},
   "outputs": [],
   "source": [
    "RES1 = 8\n",
    "RES2 = 9"
   ]
  },
  {
   "cell_type": "code",
   "execution_count": 45,
   "metadata": {},
   "outputs": [],
   "source": [
    "# # прочитайте файл, в котором хранятся точки данных.\n",
    "dp_loc = os.path.join(\"use_data\", \"datapoints\", \"datapoints.xlsx\")\n",
    "df = pd.read_excel(dp_loc, usecols=lambda x: 'Unnamed' not in x)"
   ]
  },
  {
   "cell_type": "code",
   "execution_count": 46,
   "metadata": {},
   "outputs": [
    {
     "data": {
      "text/html": [
       "<div>\n",
       "<style scoped>\n",
       "    .dataframe tbody tr th:only-of-type {\n",
       "        vertical-align: middle;\n",
       "    }\n",
       "\n",
       "    .dataframe tbody tr th {\n",
       "        vertical-align: top;\n",
       "    }\n",
       "\n",
       "    .dataframe thead th {\n",
       "        text-align: right;\n",
       "    }\n",
       "</style>\n",
       "<table border=\"1\" class=\"dataframe\">\n",
       "  <thead>\n",
       "    <tr style=\"text-align: right;\">\n",
       "      <th></th>\n",
       "      <th>address</th>\n",
       "      <th>type</th>\n",
       "      <th>district</th>\n",
       "      <th>adminstrativeDistrict</th>\n",
       "      <th>lat</th>\n",
       "      <th>lon</th>\n",
       "    </tr>\n",
       "  </thead>\n",
       "  <tbody>\n",
       "    <tr>\n",
       "      <th>0</th>\n",
       "      <td>улица Тимура Фрунзе, д. 8/5</td>\n",
       "      <td>kiosks</td>\n",
       "      <td>хамовники</td>\n",
       "      <td>Центральный административный округ</td>\n",
       "      <td>55.733460</td>\n",
       "      <td>37.592085</td>\n",
       "    </tr>\n",
       "    <tr>\n",
       "      <th>1</th>\n",
       "      <td>Комсомольский проспект, д. 23-25</td>\n",
       "      <td>kiosks</td>\n",
       "      <td>хамовники</td>\n",
       "      <td>Центральный административный округ</td>\n",
       "      <td>55.726996</td>\n",
       "      <td>37.582864</td>\n",
       "    </tr>\n",
       "    <tr>\n",
       "      <th>2</th>\n",
       "      <td>Комсомольский проспект</td>\n",
       "      <td>kiosks</td>\n",
       "      <td>хамовники</td>\n",
       "      <td>Центральный административный округ</td>\n",
       "      <td>55.720382</td>\n",
       "      <td>37.573841</td>\n",
       "    </tr>\n",
       "    <tr>\n",
       "      <th>3</th>\n",
       "      <td>улица Пречистенка, д. 1/2</td>\n",
       "      <td>kiosks</td>\n",
       "      <td>хамовники</td>\n",
       "      <td>Центральный административный округ</td>\n",
       "      <td>55.743848</td>\n",
       "      <td>37.601243</td>\n",
       "    </tr>\n",
       "    <tr>\n",
       "      <th>4</th>\n",
       "      <td>Комсомольский проспект, д. 31</td>\n",
       "      <td>kiosks</td>\n",
       "      <td>хамовники</td>\n",
       "      <td>Центральный административный округ</td>\n",
       "      <td>55.724766</td>\n",
       "      <td>37.579871</td>\n",
       "    </tr>\n",
       "  </tbody>\n",
       "</table>\n",
       "</div>"
      ],
      "text/plain": [
       "                            address    type   district  \\\n",
       "0       улица Тимура Фрунзе, д. 8/5  kiosks  хамовники   \n",
       "1  Комсомольский проспект, д. 23-25  kiosks  хамовники   \n",
       "2            Комсомольский проспект  kiosks  хамовники   \n",
       "3         улица Пречистенка, д. 1/2  kiosks  хамовники   \n",
       "4     Комсомольский проспект, д. 31  kiosks  хамовники   \n",
       "\n",
       "                adminstrativeDistrict        lat        lon  \n",
       "0  Центральный административный округ  55.733460  37.592085  \n",
       "1  Центральный административный округ  55.726996  37.582864  \n",
       "2  Центральный административный округ  55.720382  37.573841  \n",
       "3  Центральный административный округ  55.743848  37.601243  \n",
       "4  Центральный административный округ  55.724766  37.579871  "
      ]
     },
     "execution_count": 46,
     "metadata": {},
     "output_type": "execute_result"
    }
   ],
   "source": [
    "df.head()"
   ]
  },
  {
   "cell_type": "code",
   "execution_count": 47,
   "metadata": {},
   "outputs": [],
   "source": [
    "import re\n",
    "def get_h3_geo(g, res=RES2):\n",
    "    lng = g.x if isinstance(g, Point) else g.centroid.x     \n",
    "    lat = g.y if isinstance(g, Point) else g.centroid.y\n",
    "    h3_addr = h3.geo_to_h3(lat=lat, lng=lng, resolution=res)\n",
    "    return h3_addr, lat, lng        "
   ]
  },
  {
   "cell_type": "code",
   "execution_count": 48,
   "metadata": {},
   "outputs": [
    {
     "data": {
      "text/html": [
       "<div>\n",
       "<style scoped>\n",
       "    .dataframe tbody tr th:only-of-type {\n",
       "        vertical-align: middle;\n",
       "    }\n",
       "\n",
       "    .dataframe tbody tr th {\n",
       "        vertical-align: top;\n",
       "    }\n",
       "\n",
       "    .dataframe thead th {\n",
       "        text-align: right;\n",
       "    }\n",
       "</style>\n",
       "<table border=\"1\" class=\"dataframe\">\n",
       "  <thead>\n",
       "    <tr style=\"text-align: right;\">\n",
       "      <th></th>\n",
       "      <th>address</th>\n",
       "      <th>type</th>\n",
       "      <th>district</th>\n",
       "      <th>adminstrativeDistrict</th>\n",
       "      <th>lat</th>\n",
       "      <th>lon</th>\n",
       "      <th>h3</th>\n",
       "    </tr>\n",
       "  </thead>\n",
       "  <tbody>\n",
       "    <tr>\n",
       "      <th>0</th>\n",
       "      <td>улица Тимура Фрунзе, д. 8/5</td>\n",
       "      <td>kiosks</td>\n",
       "      <td>хамовники</td>\n",
       "      <td>Центральный административный округ</td>\n",
       "      <td>55.733460</td>\n",
       "      <td>37.592085</td>\n",
       "      <td>8911aa785afffff</td>\n",
       "    </tr>\n",
       "    <tr>\n",
       "      <th>1</th>\n",
       "      <td>Комсомольский проспект, д. 23-25</td>\n",
       "      <td>kiosks</td>\n",
       "      <td>хамовники</td>\n",
       "      <td>Центральный административный округ</td>\n",
       "      <td>55.726996</td>\n",
       "      <td>37.582864</td>\n",
       "      <td>8911aa78513ffff</td>\n",
       "    </tr>\n",
       "    <tr>\n",
       "      <th>2</th>\n",
       "      <td>Комсомольский проспект</td>\n",
       "      <td>kiosks</td>\n",
       "      <td>хамовники</td>\n",
       "      <td>Центральный административный округ</td>\n",
       "      <td>55.720382</td>\n",
       "      <td>37.573841</td>\n",
       "      <td>8911aa785d3ffff</td>\n",
       "    </tr>\n",
       "    <tr>\n",
       "      <th>3</th>\n",
       "      <td>улица Пречистенка, д. 1/2</td>\n",
       "      <td>kiosks</td>\n",
       "      <td>хамовники</td>\n",
       "      <td>Центральный административный округ</td>\n",
       "      <td>55.743848</td>\n",
       "      <td>37.601243</td>\n",
       "      <td>8911aa7aa8bffff</td>\n",
       "    </tr>\n",
       "    <tr>\n",
       "      <th>4</th>\n",
       "      <td>Комсомольский проспект, д. 31</td>\n",
       "      <td>kiosks</td>\n",
       "      <td>хамовники</td>\n",
       "      <td>Центральный административный округ</td>\n",
       "      <td>55.724766</td>\n",
       "      <td>37.579871</td>\n",
       "      <td>8911aa7858bffff</td>\n",
       "    </tr>\n",
       "  </tbody>\n",
       "</table>\n",
       "</div>"
      ],
      "text/plain": [
       "                            address    type   district  \\\n",
       "0       улица Тимура Фрунзе, д. 8/5  kiosks  хамовники   \n",
       "1  Комсомольский проспект, д. 23-25  kiosks  хамовники   \n",
       "2            Комсомольский проспект  kiosks  хамовники   \n",
       "3         улица Пречистенка, д. 1/2  kiosks  хамовники   \n",
       "4     Комсомольский проспект, д. 31  kiosks  хамовники   \n",
       "\n",
       "                adminstrativeDistrict        lat        lon               h3  \n",
       "0  Центральный административный округ  55.733460  37.592085  8911aa785afffff  \n",
       "1  Центральный административный округ  55.726996  37.582864  8911aa78513ffff  \n",
       "2  Центральный административный округ  55.720382  37.573841  8911aa785d3ffff  \n",
       "3  Центральный административный округ  55.743848  37.601243  8911aa7aa8bffff  \n",
       "4  Центральный административный округ  55.724766  37.579871  8911aa7858bffff  "
      ]
     },
     "execution_count": 48,
     "metadata": {},
     "output_type": "execute_result"
    }
   ],
   "source": [
    "# получить h3 для каждой точки данных с разрешением RES2 = 9\n",
    "def get_h3(row):\n",
    "    row['h3'] = h3.geo_to_h3(lat=row['lat'], lng=row['lon'], resolution=RES2) \n",
    "    return row\n",
    "df = df.apply(get_h3, axis=1)\n",
    "df.head()"
   ]
  },
  {
   "cell_type": "code",
   "execution_count": 49,
   "metadata": {},
   "outputs": [],
   "source": [
    "#извлеките текущий обучающий набор данных (тот, который имеет разрешение RES2=9)\n",
    "\n",
    "train_data_9 = pd.read_excel(os.path.join(\"osm_features\", f\"training_data_{str(RES2)}.xlsx\")).set_index('h3')\n",
    "final_dataset = train_data_9.loc[:, ['lng', 'lat']]\n",
    "train_data_9.drop(columns=['lng', 'lat'], axis=1, inplace=True)"
   ]
  },
  {
   "cell_type": "code",
   "execution_count": 50,
   "metadata": {},
   "outputs": [],
   "source": [
    "test_dataset = pd.DataFrame(data=[], columns=train_data_9.columns.copy())"
   ]
  },
  {
   "cell_type": "code",
   "execution_count": 51,
   "metadata": {},
   "outputs": [],
   "source": [
    "for idx, row in df.iterrows():\n",
    "    # получить адрес h3\n",
    "    h3_addr = row['h3']\n",
    "    # получить соседние ячейки\n",
    "    neighbors = list(h3.k_ring(h3_addr, k=1))\n",
    "    # sum the features at each smaller hexagone (resolution = RES2 = 9)\n",
    "    \n",
    "    df_idx = pd.DataFrame()\n",
    "    for n in neighbors:\n",
    "        # получить строку в виде фрейма данных\n",
    "        \n",
    "        try:\n",
    "            n_row = train_data_9.loc[[n], :] \n",
    "            df_idx = pd.concat([df_idx, n_row], ignore_index=True)\n",
    "        except KeyError:\n",
    "            pass\n",
    "        \n",
    "    df_idx = df_idx.sum().to_frame().T\n",
    "    test_dataset = pd.concat([test_dataset, df_idx], ignore_index=True)\n"
   ]
  },
  {
   "cell_type": "code",
   "execution_count": 52,
   "metadata": {},
   "outputs": [],
   "source": [
    "assert test_dataset.shape[0] == df.shape[0]"
   ]
  },
  {
   "cell_type": "code",
   "execution_count": 53,
   "metadata": {},
   "outputs": [],
   "source": [
    "test_dataset.fillna(0, inplace=True)"
   ]
  },
  {
   "cell_type": "code",
   "execution_count": 54,
   "metadata": {},
   "outputs": [],
   "source": [
    "# добавьте данные о населении и пассажирах метро в тестовый набор данных\n",
    "\n",
    "pop_metro = pd.read_excel(\"training_data_y.xlsx\").set_index('h3').loc[:, ['TotalPassengers', 'population']]"
   ]
  },
  {
   "cell_type": "code",
   "execution_count": null,
   "metadata": {},
   "outputs": [],
   "source": [
    "t = pd.concat([df, test_dataset], axis=1)\n",
    "t.head()"
   ]
  },
  {
   "cell_type": "code",
   "execution_count": 56,
   "metadata": {},
   "outputs": [],
   "source": [
    "def set_h3_to_8(row):\n",
    "    lat = row['lat']\n",
    "    lng = row['lon']\n",
    "    row['h3'] = h3.geo_to_h3(lat=lat, lng=lng, resolution=RES1)\n",
    "    return row\n",
    "t = t.apply(set_h3_to_8, axis=1)"
   ]
  },
  {
   "cell_type": "code",
   "execution_count": 57,
   "metadata": {},
   "outputs": [
    {
     "name": "stdout",
     "output_type": "stream",
     "text": [
      "                h3  TotalPassengers  population\n",
      "0  881181b041fffff              0.0         739\n",
      "1  881181b043fffff              0.0        1240\n",
      "2  881181b047fffff              0.0        1865\n",
      "3  881181b049fffff              0.0        1026\n",
      "4  881181b04bfffff              0.0        1437\n"
     ]
    }
   ],
   "source": [
    "pop_metro = pop_metro.reset_index()\n",
    "print(pop_metro.head())"
   ]
  },
  {
   "cell_type": "code",
   "execution_count": 58,
   "metadata": {},
   "outputs": [],
   "source": [
    "data = pd.merge(t, pop_metro, on='h3', how='left')\n",
    "data = data.loc[df.index, :].fillna(0)"
   ]
  },
  {
   "cell_type": "code",
   "execution_count": 59,
   "metadata": {},
   "outputs": [],
   "source": [
    "# адрес h3 больше не нужен\n",
    "\n",
    "data.drop('h3', axis=1, inplace=True)"
   ]
  },
  {
   "cell_type": "code",
   "execution_count": 60,
   "metadata": {},
   "outputs": [],
   "source": [
    "# сохраните тестовый набор данных в файле Excel.\n",
    "data.to_excel(\"test_data.xlsx\")"
   ]
  }
 ],
 "metadata": {
  "kernelspec": {
   "display_name": "ds_env",
   "language": "python",
   "name": "ds_env"
  },
  "language_info": {
   "codemirror_mode": {
    "name": "ipython",
    "version": 3
   },
   "file_extension": ".py",
   "mimetype": "text/x-python",
   "name": "python",
   "nbconvert_exporter": "python",
   "pygments_lexer": "ipython3",
   "version": "3.10.6"
  },
  "orig_nbformat": 4,
  "vscode": {
   "interpreter": {
    "hash": "916dbcbb3f70747c44a77c7bcd40155683ae19c65e1c03b4aa3499c5328201f1"
   }
  }
 },
 "nbformat": 4,
 "nbformat_minor": 2
}
